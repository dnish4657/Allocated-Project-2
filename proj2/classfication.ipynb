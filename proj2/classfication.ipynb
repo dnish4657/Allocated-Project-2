{
 "cells": [
  {
   "cell_type": "code",
   "execution_count": 1,
   "id": "0187d6c3",
   "metadata": {},
   "outputs": [],
   "source": [
    "import pandas as pd\n",
    "from sklearn.model_selection import train_test_split\n",
    "from sklearn.preprocessing import StandardScaler, OneHotEncoder\n",
    "from sklearn.impute import SimpleImputer\n",
    "from sklearn.compose import ColumnTransformer\n",
    "from sklearn.pipeline import Pipeline\n",
    "\n",
    "# Load dataset from CSV\n",
    "data=pd.read_csv('C:/Users/Danish/Documents/proj2/emails.csv')\n",
    "\n",
    "#sparate features (X) and target variable (y)\n",
    "X=data.drop(columns=['Email No.','Prediction'])\n",
    "y=data['Prediction']\n",
    "\n",
    "#preprocessing pipeline\n",
    "numeric_features=X.select_dtypes(include=['int64','float64']).columns\n",
    "categorical_features=X.select_dtypes(include=['object']).columns\n",
    "\n",
    "numeric_transformer=Pipeline(steps=[\n",
    "    ('imputer', SimpleImputer(strategy='mean')),\n",
    "    ('scaler', StandardScaler())\n",
    "])\n",
    "\n",
    "categorical_transformer=Pipeline(steps=[\n",
    "    ('imputer', SimpleImputer(strategy='most_frequent')),\n",
    "    ('onehot', OneHotEncoder(handle_unknown='ignore'))\n",
    "])\n",
    "\n",
    "preprocessor = ColumnTransformer(\n",
    "    transformers=[\n",
    "        ('num',numeric_transformer,numeric_features),\n",
    "        ('cat',categorical_transformer,categorical_features)\n",
    "    ])\n",
    "\n",
    "#Preprocess data\n",
    "X_processed=preprocessor.fit_transform(X)\n",
    "\n",
    "#split the dataset into training and testing sets\n",
    "X_train, X_test, y_train, y_test=train_test_split(X_processed, y, test_size=0.2, random_state=42)\n"
   ]
  },
  {
   "cell_type": "code",
   "execution_count": 2,
   "id": "a352c377",
   "metadata": {},
   "outputs": [
    {
     "data": {
      "text/html": [
       "<style>#sk-container-id-1 {color: black;}#sk-container-id-1 pre{padding: 0;}#sk-container-id-1 div.sk-toggleable {background-color: white;}#sk-container-id-1 label.sk-toggleable__label {cursor: pointer;display: block;width: 100%;margin-bottom: 0;padding: 0.3em;box-sizing: border-box;text-align: center;}#sk-container-id-1 label.sk-toggleable__label-arrow:before {content: \"▸\";float: left;margin-right: 0.25em;color: #696969;}#sk-container-id-1 label.sk-toggleable__label-arrow:hover:before {color: black;}#sk-container-id-1 div.sk-estimator:hover label.sk-toggleable__label-arrow:before {color: black;}#sk-container-id-1 div.sk-toggleable__content {max-height: 0;max-width: 0;overflow: hidden;text-align: left;background-color: #f0f8ff;}#sk-container-id-1 div.sk-toggleable__content pre {margin: 0.2em;color: black;border-radius: 0.25em;background-color: #f0f8ff;}#sk-container-id-1 input.sk-toggleable__control:checked~div.sk-toggleable__content {max-height: 200px;max-width: 100%;overflow: auto;}#sk-container-id-1 input.sk-toggleable__control:checked~label.sk-toggleable__label-arrow:before {content: \"▾\";}#sk-container-id-1 div.sk-estimator input.sk-toggleable__control:checked~label.sk-toggleable__label {background-color: #d4ebff;}#sk-container-id-1 div.sk-label input.sk-toggleable__control:checked~label.sk-toggleable__label {background-color: #d4ebff;}#sk-container-id-1 input.sk-hidden--visually {border: 0;clip: rect(1px 1px 1px 1px);clip: rect(1px, 1px, 1px, 1px);height: 1px;margin: -1px;overflow: hidden;padding: 0;position: absolute;width: 1px;}#sk-container-id-1 div.sk-estimator {font-family: monospace;background-color: #f0f8ff;border: 1px dotted black;border-radius: 0.25em;box-sizing: border-box;margin-bottom: 0.5em;}#sk-container-id-1 div.sk-estimator:hover {background-color: #d4ebff;}#sk-container-id-1 div.sk-parallel-item::after {content: \"\";width: 100%;border-bottom: 1px solid gray;flex-grow: 1;}#sk-container-id-1 div.sk-label:hover label.sk-toggleable__label {background-color: #d4ebff;}#sk-container-id-1 div.sk-serial::before {content: \"\";position: absolute;border-left: 1px solid gray;box-sizing: border-box;top: 0;bottom: 0;left: 50%;z-index: 0;}#sk-container-id-1 div.sk-serial {display: flex;flex-direction: column;align-items: center;background-color: white;padding-right: 0.2em;padding-left: 0.2em;position: relative;}#sk-container-id-1 div.sk-item {position: relative;z-index: 1;}#sk-container-id-1 div.sk-parallel {display: flex;align-items: stretch;justify-content: center;background-color: white;position: relative;}#sk-container-id-1 div.sk-item::before, #sk-container-id-1 div.sk-parallel-item::before {content: \"\";position: absolute;border-left: 1px solid gray;box-sizing: border-box;top: 0;bottom: 0;left: 50%;z-index: -1;}#sk-container-id-1 div.sk-parallel-item {display: flex;flex-direction: column;z-index: 1;position: relative;background-color: white;}#sk-container-id-1 div.sk-parallel-item:first-child::after {align-self: flex-end;width: 50%;}#sk-container-id-1 div.sk-parallel-item:last-child::after {align-self: flex-start;width: 50%;}#sk-container-id-1 div.sk-parallel-item:only-child::after {width: 0;}#sk-container-id-1 div.sk-dashed-wrapped {border: 1px dashed gray;margin: 0 0.4em 0.5em 0.4em;box-sizing: border-box;padding-bottom: 0.4em;background-color: white;}#sk-container-id-1 div.sk-label label {font-family: monospace;font-weight: bold;display: inline-block;line-height: 1.2em;}#sk-container-id-1 div.sk-label-container {text-align: center;}#sk-container-id-1 div.sk-container {/* jupyter's `normalize.less` sets `[hidden] { display: none; }` but bootstrap.min.css set `[hidden] { display: none !important; }` so we also need the `!important` here to be able to override the default hidden behavior on the sphinx rendered scikit-learn.org. See: https://github.com/scikit-learn/scikit-learn/issues/21755 */display: inline-block !important;position: relative;}#sk-container-id-1 div.sk-text-repr-fallback {display: none;}</style><div id=\"sk-container-id-1\" class=\"sk-top-container\"><div class=\"sk-text-repr-fallback\"><pre>LogisticRegression(max_iter=1000)</pre><b>In a Jupyter environment, please rerun this cell to show the HTML representation or trust the notebook. <br />On GitHub, the HTML representation is unable to render, please try loading this page with nbviewer.org.</b></div><div class=\"sk-container\" hidden><div class=\"sk-item\"><div class=\"sk-estimator sk-toggleable\"><input class=\"sk-toggleable__control sk-hidden--visually\" id=\"sk-estimator-id-1\" type=\"checkbox\" checked><label for=\"sk-estimator-id-1\" class=\"sk-toggleable__label sk-toggleable__label-arrow\">LogisticRegression</label><div class=\"sk-toggleable__content\"><pre>LogisticRegression(max_iter=1000)</pre></div></div></div></div></div>"
      ],
      "text/plain": [
       "LogisticRegression(max_iter=1000)"
      ]
     },
     "execution_count": 2,
     "metadata": {},
     "output_type": "execute_result"
    }
   ],
   "source": [
    "from sklearn.model_selection import cross_val_score\n",
    "from sklearn.linear_model import LogisticRegression\n",
    "\n",
    "logistic_regression=LogisticRegression(max_iter=1000)\n",
    "logistic_regression.fit(X_train, y_train)\n"
   ]
  },
  {
   "cell_type": "code",
   "execution_count": 3,
   "id": "ad267cf9",
   "metadata": {},
   "outputs": [
    {
     "name": "stdout",
     "output_type": "stream",
     "text": [
      "Logistic Regression:\n",
      "Accuracy: 0.970048309178744\n",
      "Precision: 0.9288025889967637\n",
      "Recall: 0.9695945945945946\n",
      "F1-score: 0.9487603305785124\n",
      "Cross-Validation Mean: 0.9593958082209701\n",
      "Cross-Validation Std: 0.0059658958554134126\n",
      "\n",
      "\n"
     ]
    }
   ],
   "source": [
    "from sklearn.metrics import accuracy_score, precision_score, recall_score, f1_score\n",
    "from sklearn.model_selection import cross_val_score\n",
    "logistic_regression.fit(X_train, y_train)\n",
    "logistic_regression_predictions=logistic_regression.predict(X_test)\n",
    "logistic_regression_accuracy=accuracy_score(y_test, logistic_regression_predictions)\n",
    "logistic_regression_precision=precision_score(y_test, logistic_regression_predictions)\n",
    "logistic_regression_recall=recall_score(y_test, logistic_regression_predictions)\n",
    "logistic_regression_f1_score=f1_score(y_test, logistic_regression_predictions)\n",
    "# Cross-validation for logistic regression\n",
    "logistic_regression_cv=cross_val_score(logistic_regression, X_processed, y, cv=5)\n",
    "print(\"Logistic Regression:\")\n",
    "print(f\"Accuracy: {logistic_regression_accuracy}\")\n",
    "print(f\"Precision: {logistic_regression_precision}\")\n",
    "print(f\"Recall: {logistic_regression_recall}\")\n",
    "print(f\"F1-score: {logistic_regression_f1_score}\")\n",
    "print(f\"Cross-Validation Mean: {logistic_regression_cv.mean()}\")\n",
    "print(f\"Cross-Validation Std: {logistic_regression_cv.std()}\")\n",
    "print(\"\\n\")"
   ]
  },
  {
   "cell_type": "code",
   "execution_count": 4,
   "id": "111f9c17",
   "metadata": {},
   "outputs": [
    {
     "name": "stdout",
     "output_type": "stream",
     "text": [
      "Decision Tree:\n",
      "Accuracy: 0.9246376811594202\n",
      "Precision: 0.8609271523178808\n",
      "Recall: 0.8783783783783784\n",
      "F1-score: 0.8695652173913043\n",
      "Cross-Validation Mean: 0.914536484175707\n",
      "Cross-Validation Std: 0.015688935581177323\n",
      "\n",
      "\n"
     ]
    }
   ],
   "source": [
    "from sklearn.tree import DecisionTreeClassifier\n",
    "\n",
    "decision_tree=DecisionTreeClassifier()\n",
    "decision_tree.fit(X_train, y_train)\n",
    "\n",
    "decision_tree_predictions=decision_tree.predict(X_test)\n",
    "decision_tree_accuracy=accuracy_score(y_test, decision_tree_predictions)\n",
    "decision_tree_precision=precision_score(y_test, decision_tree_predictions)\n",
    "decision_tree_recall=recall_score(y_test, decision_tree_predictions)\n",
    "decision_tree_f1_score=f1_score(y_test, decision_tree_predictions)\n",
    "\n",
    "# Cross-validation for decision tree\n",
    "decision_tree_cv=cross_val_score(decision_tree, X_processed, y, cv=5)\n",
    "\n",
    "print(\"Decision Tree:\")\n",
    "print(f\"Accuracy: {decision_tree_accuracy}\")\n",
    "print(f\"Precision: {decision_tree_precision}\")\n",
    "print(f\"Recall: {decision_tree_recall}\")\n",
    "print(f\"F1-score: {decision_tree_f1_score}\")\n",
    "print(f\"Cross-Validation Mean: {decision_tree_cv.mean()}\")\n",
    "print(f\"Cross-Validation Std: {decision_tree_cv.std()}\")\n",
    "print(\"\\n\")\n"
   ]
  },
  {
   "cell_type": "code",
   "execution_count": 5,
   "id": "7225b802",
   "metadata": {},
   "outputs": [
    {
     "name": "stdout",
     "output_type": "stream",
     "text": [
      "SVM:\n",
      "Accuracy: 0.9468599033816425\n",
      "Precision: 0.9958847736625515\n",
      "Recall: 0.8175675675675675\n",
      "F1-score: 0.8979591836734693\n",
      "Cross-Validation Mean: 0.9211100832562442\n",
      "Cross-Validation Std: 0.011020259928962555\n",
      "\n",
      "\n"
     ]
    }
   ],
   "source": [
    "from sklearn.svm import SVC\n",
    "\n",
    "svm=SVC()\n",
    "svm.fit(X_train, y_train)\n",
    "\n",
    "svm_predictions=svm.predict(X_test)\n",
    "svm_accuracy=accuracy_score(y_test, svm_predictions)\n",
    "svm_precision=precision_score(y_test, svm_predictions)\n",
    "svm_recall=recall_score(y_test, svm_predictions)\n",
    "svm_f1_score=f1_score(y_test, svm_predictions)\n",
    "\n",
    "# Cross-validation for SVM\n",
    "svm_cv=cross_val_score(svm, X_processed, y, cv=5)\n",
    "\n",
    "print(\"SVM:\")\n",
    "print(f\"Accuracy: {svm_accuracy}\")\n",
    "print(f\"Precision: {svm_precision}\")\n",
    "print(f\"Recall: {svm_recall}\")\n",
    "print(f\"F1-score: {svm_f1_score}\")\n",
    "print(f\"Cross-Validation Mean: {svm_cv.mean()}\")\n",
    "print(f\"Cross-Validation Std: {svm_cv.std()}\")\n",
    "print(\"\\n\")\n"
   ]
  },
  {
   "cell_type": "code",
   "execution_count": 8,
   "id": "0148545a",
   "metadata": {},
   "outputs": [
    {
     "name": "stdout",
     "output_type": "stream",
     "text": [
      "Model Evaluation:\n",
      "Accuracy: 0.970048309178744\n",
      "Precision: 0.9288025889967637\n",
      "Recall: 0.9695945945945946\n",
      "F1-score: 0.9487603305785124\n",
      "Cross-Validation Mean: 0.9593958082209701\n",
      "Cross-Validation Std: 0.0059658958554134126\n"
     ]
    }
   ],
   "source": [
    "from sklearn.model_selection import train_test_split\n",
    "X_train, X_test, y_train, y_test = train_test_split(X_processed, y, test_size=0.2, random_state=42)\n",
    "logistic_regression.fit(X_train, y_train)\n",
    "\n",
    "from sklearn.metrics import accuracy_score, precision_score, recall_score, f1_score\n",
    "from sklearn.model_selection import cross_val_score\n",
    "y_pred = logistic_regression.predict(X_test)\n",
    "\n",
    "# Metrics\n",
    "accuracy=accuracy_score(y_test, y_pred)\n",
    "precision=precision_score(y_test, y_pred)\n",
    "recall=recall_score(y_test, y_pred)\n",
    "f1=f1_score(y_test, y_pred)\n",
    "\n",
    "# Cross-validation\n",
    "cv_scores=cross_val_score(logistic_regression, X_processed, y, cv=5)\n",
    "print(\"Model Evaluation:\")\n",
    "print(f\"Accuracy: {accuracy}\")\n",
    "print(f\"Precision: {precision}\")\n",
    "print(f\"Recall: {recall}\")\n",
    "print(f\"F1-score: {f1}\")\n",
    "print(f\"Cross-Validation Mean: {cv_scores.mean()}\")\n",
    "print(f\"Cross-Validation Std: {cv_scores.std()}\")\n"
   ]
  },
  {
   "cell_type": "code",
   "execution_count": null,
   "id": "b839b1a8",
   "metadata": {},
   "outputs": [],
   "source": []
  }
 ],
 "metadata": {
  "kernelspec": {
   "display_name": "Python 3 (ipykernel)",
   "language": "python",
   "name": "python3"
  },
  "language_info": {
   "codemirror_mode": {
    "name": "ipython",
    "version": 3
   },
   "file_extension": ".py",
   "mimetype": "text/x-python",
   "name": "python",
   "nbconvert_exporter": "python",
   "pygments_lexer": "ipython3",
   "version": "3.11.4"
  }
 },
 "nbformat": 4,
 "nbformat_minor": 5
}
